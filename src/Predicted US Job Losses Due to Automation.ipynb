{
 "cells": [
  {
   "cell_type": "markdown",
   "id": "c601e9a3",
   "metadata": {},
   "source": [
    "# Predicted US Job Losses Due to Automation\n",
    "\n",
    "In this notebook, we will break down predicted job losses due to automation on a state-by-state basis.\n",
    "\n",
    "First, we load the raw data and look at the structure."
   ]
  },
  {
   "cell_type": "code",
   "execution_count": 1,
   "id": "470c7170",
   "metadata": {},
   "outputs": [
    {
     "data": {
      "text/html": [
       "<div>\n",
       "<style scoped>\n",
       "    .dataframe tbody tr th:only-of-type {\n",
       "        vertical-align: middle;\n",
       "    }\n",
       "\n",
       "    .dataframe tbody tr th {\n",
       "        vertical-align: top;\n",
       "    }\n",
       "\n",
       "    .dataframe thead th {\n",
       "        text-align: right;\n",
       "    }\n",
       "</style>\n",
       "<table border=\"1\" class=\"dataframe\">\n",
       "  <thead>\n",
       "    <tr style=\"text-align: right;\">\n",
       "      <th></th>\n",
       "      <th>OCC_CODE</th>\n",
       "      <th>OCC_TITLE</th>\n",
       "      <th>OCC_GROUP</th>\n",
       "      <th>TOT_EMP</th>\n",
       "      <th>EMP_PRSE</th>\n",
       "      <th>H_MEAN</th>\n",
       "      <th>A_MEAN</th>\n",
       "      <th>MEAN_PRSE</th>\n",
       "      <th>H_PCT10</th>\n",
       "      <th>H_PCT25</th>\n",
       "      <th>...</th>\n",
       "      <th>H_PCT75</th>\n",
       "      <th>H_PCT90</th>\n",
       "      <th>A_PCT10</th>\n",
       "      <th>A_PCT25</th>\n",
       "      <th>A_MEDIAN</th>\n",
       "      <th>A_PCT75</th>\n",
       "      <th>A_PCT90</th>\n",
       "      <th>ANNUAL</th>\n",
       "      <th>HOURLY</th>\n",
       "      <th>SOC</th>\n",
       "    </tr>\n",
       "  </thead>\n",
       "  <tbody>\n",
       "    <tr>\n",
       "      <th>0</th>\n",
       "      <td>00-0000</td>\n",
       "      <td>All Occupations</td>\n",
       "      <td>total</td>\n",
       "      <td>140400040</td>\n",
       "      <td>0.1</td>\n",
       "      <td>23.86</td>\n",
       "      <td>49630</td>\n",
       "      <td>0.1</td>\n",
       "      <td>9.27</td>\n",
       "      <td>11.6</td>\n",
       "      <td>...</td>\n",
       "      <td>28.92</td>\n",
       "      <td>45.45</td>\n",
       "      <td>19290</td>\n",
       "      <td>24140</td>\n",
       "      <td>37040</td>\n",
       "      <td>60150</td>\n",
       "      <td>94540</td>\n",
       "      <td>NaN</td>\n",
       "      <td>NaN</td>\n",
       "      <td>00-0000</td>\n",
       "    </tr>\n",
       "    <tr>\n",
       "      <th>1</th>\n",
       "      <td>11-0000</td>\n",
       "      <td>Management Occupations</td>\n",
       "      <td>major</td>\n",
       "      <td>7090790</td>\n",
       "      <td>0.2</td>\n",
       "      <td>56.74</td>\n",
       "      <td>118020</td>\n",
       "      <td>0.1</td>\n",
       "      <td>22.76</td>\n",
       "      <td>32.99</td>\n",
       "      <td>...</td>\n",
       "      <td>70.72</td>\n",
       "      <td>#</td>\n",
       "      <td>47330</td>\n",
       "      <td>68630</td>\n",
       "      <td>100790</td>\n",
       "      <td>147090</td>\n",
       "      <td>#</td>\n",
       "      <td>NaN</td>\n",
       "      <td>NaN</td>\n",
       "      <td>11-0000</td>\n",
       "    </tr>\n",
       "    <tr>\n",
       "      <th>2</th>\n",
       "      <td>11-1000</td>\n",
       "      <td>Top Executives</td>\n",
       "      <td>minor</td>\n",
       "      <td>2465800</td>\n",
       "      <td>0.2</td>\n",
       "      <td>61.03</td>\n",
       "      <td>126950</td>\n",
       "      <td>0.2</td>\n",
       "      <td>20.58</td>\n",
       "      <td>31.45</td>\n",
       "      <td>...</td>\n",
       "      <td>78.35</td>\n",
       "      <td>#</td>\n",
       "      <td>42810</td>\n",
       "      <td>65420</td>\n",
       "      <td>102320</td>\n",
       "      <td>162970</td>\n",
       "      <td>#</td>\n",
       "      <td>NaN</td>\n",
       "      <td>NaN</td>\n",
       "      <td>11-1000</td>\n",
       "    </tr>\n",
       "    <tr>\n",
       "      <th>3</th>\n",
       "      <td>11-1010</td>\n",
       "      <td>Chief Executives</td>\n",
       "      <td>broad</td>\n",
       "      <td>223260</td>\n",
       "      <td>0.7</td>\n",
       "      <td>93.44</td>\n",
       "      <td>194350</td>\n",
       "      <td>0.4</td>\n",
       "      <td>33.55</td>\n",
       "      <td>54.86</td>\n",
       "      <td>...</td>\n",
       "      <td>#</td>\n",
       "      <td>#</td>\n",
       "      <td>69780</td>\n",
       "      <td>114100</td>\n",
       "      <td>181210</td>\n",
       "      <td>#</td>\n",
       "      <td>#</td>\n",
       "      <td>NaN</td>\n",
       "      <td>NaN</td>\n",
       "      <td>11-1010</td>\n",
       "    </tr>\n",
       "    <tr>\n",
       "      <th>4</th>\n",
       "      <td>11-1011</td>\n",
       "      <td>Chief Executives</td>\n",
       "      <td>detailed</td>\n",
       "      <td>223260</td>\n",
       "      <td>0.7</td>\n",
       "      <td>93.44</td>\n",
       "      <td>194350</td>\n",
       "      <td>0.4</td>\n",
       "      <td>33.55</td>\n",
       "      <td>54.86</td>\n",
       "      <td>...</td>\n",
       "      <td>#</td>\n",
       "      <td>#</td>\n",
       "      <td>69780</td>\n",
       "      <td>114100</td>\n",
       "      <td>181210</td>\n",
       "      <td>#</td>\n",
       "      <td>#</td>\n",
       "      <td>NaN</td>\n",
       "      <td>NaN</td>\n",
       "      <td>11-1011</td>\n",
       "    </tr>\n",
       "    <tr>\n",
       "      <th>...</th>\n",
       "      <td>...</td>\n",
       "      <td>...</td>\n",
       "      <td>...</td>\n",
       "      <td>...</td>\n",
       "      <td>...</td>\n",
       "      <td>...</td>\n",
       "      <td>...</td>\n",
       "      <td>...</td>\n",
       "      <td>...</td>\n",
       "      <td>...</td>\n",
       "      <td>...</td>\n",
       "      <td>...</td>\n",
       "      <td>...</td>\n",
       "      <td>...</td>\n",
       "      <td>...</td>\n",
       "      <td>...</td>\n",
       "      <td>...</td>\n",
       "      <td>...</td>\n",
       "      <td>...</td>\n",
       "      <td>...</td>\n",
       "      <td>...</td>\n",
       "    </tr>\n",
       "    <tr>\n",
       "      <th>1389</th>\n",
       "      <td>53-7111</td>\n",
       "      <td>Mine Shuttle Car Operators</td>\n",
       "      <td>detailed</td>\n",
       "      <td>1590</td>\n",
       "      <td>7.0</td>\n",
       "      <td>27.1</td>\n",
       "      <td>56370</td>\n",
       "      <td>1.3</td>\n",
       "      <td>21.21</td>\n",
       "      <td>23.98</td>\n",
       "      <td>...</td>\n",
       "      <td>29.91</td>\n",
       "      <td>32.73</td>\n",
       "      <td>44120</td>\n",
       "      <td>49880</td>\n",
       "      <td>56450</td>\n",
       "      <td>62200</td>\n",
       "      <td>68080</td>\n",
       "      <td>NaN</td>\n",
       "      <td>NaN</td>\n",
       "      <td>53-7111</td>\n",
       "    </tr>\n",
       "    <tr>\n",
       "      <th>1390</th>\n",
       "      <td>53-7120</td>\n",
       "      <td>Tank Car, Truck, and Ship Loaders</td>\n",
       "      <td>broad</td>\n",
       "      <td>10920</td>\n",
       "      <td>13.1</td>\n",
       "      <td>19.04</td>\n",
       "      <td>39590</td>\n",
       "      <td>2.5</td>\n",
       "      <td>10.82</td>\n",
       "      <td>13.25</td>\n",
       "      <td>...</td>\n",
       "      <td>22.78</td>\n",
       "      <td>31.82</td>\n",
       "      <td>22510</td>\n",
       "      <td>27570</td>\n",
       "      <td>35770</td>\n",
       "      <td>47380</td>\n",
       "      <td>66190</td>\n",
       "      <td>NaN</td>\n",
       "      <td>NaN</td>\n",
       "      <td>53-7120</td>\n",
       "    </tr>\n",
       "    <tr>\n",
       "      <th>1391</th>\n",
       "      <td>53-7121</td>\n",
       "      <td>Tank Car, Truck, and Ship Loaders</td>\n",
       "      <td>detailed</td>\n",
       "      <td>10920</td>\n",
       "      <td>13.1</td>\n",
       "      <td>19.04</td>\n",
       "      <td>39590</td>\n",
       "      <td>2.5</td>\n",
       "      <td>10.82</td>\n",
       "      <td>13.25</td>\n",
       "      <td>...</td>\n",
       "      <td>22.78</td>\n",
       "      <td>31.82</td>\n",
       "      <td>22510</td>\n",
       "      <td>27570</td>\n",
       "      <td>35770</td>\n",
       "      <td>47380</td>\n",
       "      <td>66190</td>\n",
       "      <td>NaN</td>\n",
       "      <td>NaN</td>\n",
       "      <td>53-7121</td>\n",
       "    </tr>\n",
       "    <tr>\n",
       "      <th>1392</th>\n",
       "      <td>53-7190</td>\n",
       "      <td>Miscellaneous Material Moving Workers</td>\n",
       "      <td>broad</td>\n",
       "      <td>23880</td>\n",
       "      <td>3.7</td>\n",
       "      <td>16.61</td>\n",
       "      <td>34540</td>\n",
       "      <td>2.0</td>\n",
       "      <td>10</td>\n",
       "      <td>10.85</td>\n",
       "      <td>...</td>\n",
       "      <td>20.65</td>\n",
       "      <td>28.29</td>\n",
       "      <td>20810</td>\n",
       "      <td>22570</td>\n",
       "      <td>28370</td>\n",
       "      <td>42950</td>\n",
       "      <td>58840</td>\n",
       "      <td>NaN</td>\n",
       "      <td>NaN</td>\n",
       "      <td>53-7190</td>\n",
       "    </tr>\n",
       "    <tr>\n",
       "      <th>1393</th>\n",
       "      <td>53-7199</td>\n",
       "      <td>Material Moving Workers, All Other</td>\n",
       "      <td>detailed</td>\n",
       "      <td>23880</td>\n",
       "      <td>3.7</td>\n",
       "      <td>16.61</td>\n",
       "      <td>34540</td>\n",
       "      <td>2.0</td>\n",
       "      <td>10</td>\n",
       "      <td>10.85</td>\n",
       "      <td>...</td>\n",
       "      <td>20.65</td>\n",
       "      <td>28.29</td>\n",
       "      <td>20810</td>\n",
       "      <td>22570</td>\n",
       "      <td>28370</td>\n",
       "      <td>42950</td>\n",
       "      <td>58840</td>\n",
       "      <td>NaN</td>\n",
       "      <td>NaN</td>\n",
       "      <td>53-7199</td>\n",
       "    </tr>\n",
       "  </tbody>\n",
       "</table>\n",
       "<p>1394 rows × 21 columns</p>\n",
       "</div>"
      ],
      "text/plain": [
       "     OCC_CODE                              OCC_TITLE OCC_GROUP    TOT_EMP  \\\n",
       "0     00-0000                        All Occupations     total  140400040   \n",
       "1     11-0000                 Management Occupations     major    7090790   \n",
       "2     11-1000                         Top Executives     minor    2465800   \n",
       "3     11-1010                       Chief Executives     broad     223260   \n",
       "4     11-1011                       Chief Executives  detailed     223260   \n",
       "...       ...                                    ...       ...        ...   \n",
       "1389  53-7111             Mine Shuttle Car Operators  detailed       1590   \n",
       "1390  53-7120      Tank Car, Truck, and Ship Loaders     broad      10920   \n",
       "1391  53-7121      Tank Car, Truck, and Ship Loaders  detailed      10920   \n",
       "1392  53-7190  Miscellaneous Material Moving Workers     broad      23880   \n",
       "1393  53-7199     Material Moving Workers, All Other  detailed      23880   \n",
       "\n",
       "      EMP_PRSE H_MEAN  A_MEAN  MEAN_PRSE H_PCT10 H_PCT25  ... H_PCT75 H_PCT90  \\\n",
       "0          0.1  23.86   49630        0.1    9.27    11.6  ...   28.92   45.45   \n",
       "1          0.2  56.74  118020        0.1   22.76   32.99  ...   70.72       #   \n",
       "2          0.2  61.03  126950        0.2   20.58   31.45  ...   78.35       #   \n",
       "3          0.7  93.44  194350        0.4   33.55   54.86  ...       #       #   \n",
       "4          0.7  93.44  194350        0.4   33.55   54.86  ...       #       #   \n",
       "...        ...    ...     ...        ...     ...     ...  ...     ...     ...   \n",
       "1389       7.0   27.1   56370        1.3   21.21   23.98  ...   29.91   32.73   \n",
       "1390      13.1  19.04   39590        2.5   10.82   13.25  ...   22.78   31.82   \n",
       "1391      13.1  19.04   39590        2.5   10.82   13.25  ...   22.78   31.82   \n",
       "1392       3.7  16.61   34540        2.0      10   10.85  ...   20.65   28.29   \n",
       "1393       3.7  16.61   34540        2.0      10   10.85  ...   20.65   28.29   \n",
       "\n",
       "     A_PCT10 A_PCT25 A_MEDIAN A_PCT75 A_PCT90 ANNUAL HOURLY      SOC  \n",
       "0      19290   24140    37040   60150   94540    NaN    NaN  00-0000  \n",
       "1      47330   68630   100790  147090       #    NaN    NaN  11-0000  \n",
       "2      42810   65420   102320  162970       #    NaN    NaN  11-1000  \n",
       "3      69780  114100   181210       #       #    NaN    NaN  11-1010  \n",
       "4      69780  114100   181210       #       #    NaN    NaN  11-1011  \n",
       "...      ...     ...      ...     ...     ...    ...    ...      ...  \n",
       "1389   44120   49880    56450   62200   68080    NaN    NaN  53-7111  \n",
       "1390   22510   27570    35770   47380   66190    NaN    NaN  53-7120  \n",
       "1391   22510   27570    35770   47380   66190    NaN    NaN  53-7121  \n",
       "1392   20810   22570    28370   42950   58840    NaN    NaN  53-7190  \n",
       "1393   20810   22570    28370   42950   58840    NaN    NaN  53-7199  \n",
       "\n",
       "[1394 rows x 21 columns]"
      ]
     },
     "execution_count": 1,
     "metadata": {},
     "output_type": "execute_result"
    }
   ],
   "source": [
    "import numpy as np\n",
    "import pandas as pd\n",
    "\n",
    "salary_data = pd.read_excel('../data/occupation-automation/occupation_salary.xlsx')\n",
    "salary_data['SOC'] = salary_data['OCC_CODE']\n",
    "salary_data"
   ]
  },
  {
   "cell_type": "code",
   "execution_count": 2,
   "id": "67ab3702",
   "metadata": {},
   "outputs": [
    {
     "data": {
      "text/html": [
       "<div>\n",
       "<style scoped>\n",
       "    .dataframe tbody tr th:only-of-type {\n",
       "        vertical-align: middle;\n",
       "    }\n",
       "\n",
       "    .dataframe tbody tr th {\n",
       "        vertical-align: top;\n",
       "    }\n",
       "\n",
       "    .dataframe thead th {\n",
       "        text-align: right;\n",
       "    }\n",
       "</style>\n",
       "<table border=\"1\" class=\"dataframe\">\n",
       "  <thead>\n",
       "    <tr style=\"text-align: right;\">\n",
       "      <th></th>\n",
       "      <th>SOC</th>\n",
       "      <th>Occupation</th>\n",
       "      <th>Probability</th>\n",
       "      <th>Alabama</th>\n",
       "      <th>Alaska</th>\n",
       "      <th>Arizona</th>\n",
       "      <th>Arkansas</th>\n",
       "      <th>California</th>\n",
       "      <th>Colorado</th>\n",
       "      <th>Connecticut</th>\n",
       "      <th>...</th>\n",
       "      <th>South Dakota</th>\n",
       "      <th>Tennessee</th>\n",
       "      <th>Texas</th>\n",
       "      <th>Utah</th>\n",
       "      <th>Vermont</th>\n",
       "      <th>Virginia</th>\n",
       "      <th>Washington</th>\n",
       "      <th>West Virginia</th>\n",
       "      <th>Wisconsin</th>\n",
       "      <th>Wyoming</th>\n",
       "    </tr>\n",
       "  </thead>\n",
       "  <tbody>\n",
       "    <tr>\n",
       "      <th>0</th>\n",
       "      <td>11-1011</td>\n",
       "      <td>Chief Executives</td>\n",
       "      <td>0.015</td>\n",
       "      <td>1030</td>\n",
       "      <td>760</td>\n",
       "      <td>5750</td>\n",
       "      <td>2710</td>\n",
       "      <td>31150</td>\n",
       "      <td>880</td>\n",
       "      <td>1410</td>\n",
       "      <td>...</td>\n",
       "      <td>560</td>\n",
       "      <td>5460</td>\n",
       "      <td>5890</td>\n",
       "      <td>3650</td>\n",
       "      <td>280</td>\n",
       "      <td>6320</td>\n",
       "      <td>5910</td>\n",
       "      <td>980</td>\n",
       "      <td>3740</td>\n",
       "      <td>160</td>\n",
       "    </tr>\n",
       "    <tr>\n",
       "      <th>1</th>\n",
       "      <td>11-1021</td>\n",
       "      <td>General and Operations Managers</td>\n",
       "      <td>0.160</td>\n",
       "      <td>26930</td>\n",
       "      <td>6490</td>\n",
       "      <td>43300</td>\n",
       "      <td>20680</td>\n",
       "      <td>261780</td>\n",
       "      <td>41540</td>\n",
       "      <td>33280</td>\n",
       "      <td>...</td>\n",
       "      <td>3730</td>\n",
       "      <td>44400</td>\n",
       "      <td>168610</td>\n",
       "      <td>36200</td>\n",
       "      <td>2760</td>\n",
       "      <td>52380</td>\n",
       "      <td>43760</td>\n",
       "      <td>10200</td>\n",
       "      <td>32350</td>\n",
       "      <td>4840</td>\n",
       "    </tr>\n",
       "    <tr>\n",
       "      <th>2</th>\n",
       "      <td>11-2011</td>\n",
       "      <td>Advertising and Promotions Managers</td>\n",
       "      <td>0.039</td>\n",
       "      <td>50</td>\n",
       "      <td>40</td>\n",
       "      <td>470</td>\n",
       "      <td>110</td>\n",
       "      <td>3760</td>\n",
       "      <td>480</td>\n",
       "      <td>300</td>\n",
       "      <td>...</td>\n",
       "      <td>0</td>\n",
       "      <td>670</td>\n",
       "      <td>1210</td>\n",
       "      <td>380</td>\n",
       "      <td>40</td>\n",
       "      <td>240</td>\n",
       "      <td>640</td>\n",
       "      <td>40</td>\n",
       "      <td>200</td>\n",
       "      <td>0</td>\n",
       "    </tr>\n",
       "    <tr>\n",
       "      <th>3</th>\n",
       "      <td>11-2021</td>\n",
       "      <td>Marketing Managers</td>\n",
       "      <td>0.014</td>\n",
       "      <td>530</td>\n",
       "      <td>200</td>\n",
       "      <td>4790</td>\n",
       "      <td>1090</td>\n",
       "      <td>33390</td>\n",
       "      <td>3060</td>\n",
       "      <td>4970</td>\n",
       "      <td>...</td>\n",
       "      <td>60</td>\n",
       "      <td>3400</td>\n",
       "      <td>9570</td>\n",
       "      <td>2320</td>\n",
       "      <td>380</td>\n",
       "      <td>3840</td>\n",
       "      <td>5830</td>\n",
       "      <td>260</td>\n",
       "      <td>2980</td>\n",
       "      <td>30</td>\n",
       "    </tr>\n",
       "    <tr>\n",
       "      <th>4</th>\n",
       "      <td>11-2022</td>\n",
       "      <td>Sales Managers</td>\n",
       "      <td>0.013</td>\n",
       "      <td>2510</td>\n",
       "      <td>400</td>\n",
       "      <td>10650</td>\n",
       "      <td>2650</td>\n",
       "      <td>69180</td>\n",
       "      <td>4570</td>\n",
       "      <td>7040</td>\n",
       "      <td>...</td>\n",
       "      <td>300</td>\n",
       "      <td>8890</td>\n",
       "      <td>22310</td>\n",
       "      <td>3360</td>\n",
       "      <td>480</td>\n",
       "      <td>5360</td>\n",
       "      <td>7390</td>\n",
       "      <td>600</td>\n",
       "      <td>5730</td>\n",
       "      <td>180</td>\n",
       "    </tr>\n",
       "    <tr>\n",
       "      <th>...</th>\n",
       "      <td>...</td>\n",
       "      <td>...</td>\n",
       "      <td>...</td>\n",
       "      <td>...</td>\n",
       "      <td>...</td>\n",
       "      <td>...</td>\n",
       "      <td>...</td>\n",
       "      <td>...</td>\n",
       "      <td>...</td>\n",
       "      <td>...</td>\n",
       "      <td>...</td>\n",
       "      <td>...</td>\n",
       "      <td>...</td>\n",
       "      <td>...</td>\n",
       "      <td>...</td>\n",
       "      <td>...</td>\n",
       "      <td>...</td>\n",
       "      <td>...</td>\n",
       "      <td>...</td>\n",
       "      <td>...</td>\n",
       "      <td>...</td>\n",
       "    </tr>\n",
       "    <tr>\n",
       "      <th>697</th>\n",
       "      <td>53-7072</td>\n",
       "      <td>Pump Operators; Except Wellhead Pumpers</td>\n",
       "      <td>0.900</td>\n",
       "      <td>0</td>\n",
       "      <td>0</td>\n",
       "      <td>0</td>\n",
       "      <td>0</td>\n",
       "      <td>1130</td>\n",
       "      <td>190</td>\n",
       "      <td>0</td>\n",
       "      <td>...</td>\n",
       "      <td>0</td>\n",
       "      <td>130</td>\n",
       "      <td>3780</td>\n",
       "      <td>0</td>\n",
       "      <td>0</td>\n",
       "      <td>0</td>\n",
       "      <td>0</td>\n",
       "      <td>110</td>\n",
       "      <td>80</td>\n",
       "      <td>0</td>\n",
       "    </tr>\n",
       "    <tr>\n",
       "      <th>698</th>\n",
       "      <td>53-7073</td>\n",
       "      <td>Wellhead Pumpers</td>\n",
       "      <td>0.840</td>\n",
       "      <td>0</td>\n",
       "      <td>0</td>\n",
       "      <td>0</td>\n",
       "      <td>180</td>\n",
       "      <td>220</td>\n",
       "      <td>600</td>\n",
       "      <td>0</td>\n",
       "      <td>...</td>\n",
       "      <td>0</td>\n",
       "      <td>0</td>\n",
       "      <td>4130</td>\n",
       "      <td>90</td>\n",
       "      <td>0</td>\n",
       "      <td>0</td>\n",
       "      <td>0</td>\n",
       "      <td>550</td>\n",
       "      <td>0</td>\n",
       "      <td>550</td>\n",
       "    </tr>\n",
       "    <tr>\n",
       "      <th>699</th>\n",
       "      <td>53-7081</td>\n",
       "      <td>Refuse and Recyclable Material Collectors</td>\n",
       "      <td>0.930</td>\n",
       "      <td>2070</td>\n",
       "      <td>210</td>\n",
       "      <td>1980</td>\n",
       "      <td>1530</td>\n",
       "      <td>13850</td>\n",
       "      <td>1710</td>\n",
       "      <td>910</td>\n",
       "      <td>...</td>\n",
       "      <td>430</td>\n",
       "      <td>2230</td>\n",
       "      <td>7760</td>\n",
       "      <td>710</td>\n",
       "      <td>480</td>\n",
       "      <td>3430</td>\n",
       "      <td>1890</td>\n",
       "      <td>970</td>\n",
       "      <td>2140</td>\n",
       "      <td>230</td>\n",
       "    </tr>\n",
       "    <tr>\n",
       "      <th>700</th>\n",
       "      <td>53-7111</td>\n",
       "      <td>Mine Shuttle Car Operators</td>\n",
       "      <td>0.370</td>\n",
       "      <td>50</td>\n",
       "      <td>0</td>\n",
       "      <td>0</td>\n",
       "      <td>0</td>\n",
       "      <td>0</td>\n",
       "      <td>70</td>\n",
       "      <td>0</td>\n",
       "      <td>...</td>\n",
       "      <td>0</td>\n",
       "      <td>0</td>\n",
       "      <td>0</td>\n",
       "      <td>0</td>\n",
       "      <td>0</td>\n",
       "      <td>0</td>\n",
       "      <td>0</td>\n",
       "      <td>510</td>\n",
       "      <td>0</td>\n",
       "      <td>0</td>\n",
       "    </tr>\n",
       "    <tr>\n",
       "      <th>701</th>\n",
       "      <td>53-7121</td>\n",
       "      <td>Tank Car; Truck; and Ship Loaders</td>\n",
       "      <td>0.720</td>\n",
       "      <td>600</td>\n",
       "      <td>80</td>\n",
       "      <td>110</td>\n",
       "      <td>50</td>\n",
       "      <td>360</td>\n",
       "      <td>80</td>\n",
       "      <td>0</td>\n",
       "      <td>...</td>\n",
       "      <td>0</td>\n",
       "      <td>190</td>\n",
       "      <td>3250</td>\n",
       "      <td>0</td>\n",
       "      <td>0</td>\n",
       "      <td>180</td>\n",
       "      <td>350</td>\n",
       "      <td>0</td>\n",
       "      <td>190</td>\n",
       "      <td>80</td>\n",
       "    </tr>\n",
       "  </tbody>\n",
       "</table>\n",
       "<p>702 rows × 54 columns</p>\n",
       "</div>"
      ],
      "text/plain": [
       "         SOC                                 Occupation  Probability  Alabama  \\\n",
       "0    11-1011                           Chief Executives        0.015     1030   \n",
       "1    11-1021            General and Operations Managers        0.160    26930   \n",
       "2    11-2011        Advertising and Promotions Managers        0.039       50   \n",
       "3    11-2021                         Marketing Managers        0.014      530   \n",
       "4    11-2022                             Sales Managers        0.013     2510   \n",
       "..       ...                                        ...          ...      ...   \n",
       "697  53-7072    Pump Operators; Except Wellhead Pumpers        0.900        0   \n",
       "698  53-7073                           Wellhead Pumpers        0.840        0   \n",
       "699  53-7081  Refuse and Recyclable Material Collectors        0.930     2070   \n",
       "700  53-7111                 Mine Shuttle Car Operators        0.370       50   \n",
       "701  53-7121          Tank Car; Truck; and Ship Loaders        0.720      600   \n",
       "\n",
       "     Alaska  Arizona  Arkansas  California  Colorado  Connecticut  ...  \\\n",
       "0       760     5750      2710       31150       880         1410  ...   \n",
       "1      6490    43300     20680      261780     41540        33280  ...   \n",
       "2        40      470       110        3760       480          300  ...   \n",
       "3       200     4790      1090       33390      3060         4970  ...   \n",
       "4       400    10650      2650       69180      4570         7040  ...   \n",
       "..      ...      ...       ...         ...       ...          ...  ...   \n",
       "697       0        0         0        1130       190            0  ...   \n",
       "698       0        0       180         220       600            0  ...   \n",
       "699     210     1980      1530       13850      1710          910  ...   \n",
       "700       0        0         0           0        70            0  ...   \n",
       "701      80      110        50         360        80            0  ...   \n",
       "\n",
       "     South Dakota  Tennessee   Texas   Utah  Vermont  Virginia  Washington  \\\n",
       "0             560       5460    5890   3650      280      6320        5910   \n",
       "1            3730      44400  168610  36200     2760     52380       43760   \n",
       "2               0        670    1210    380       40       240         640   \n",
       "3              60       3400    9570   2320      380      3840        5830   \n",
       "4             300       8890   22310   3360      480      5360        7390   \n",
       "..            ...        ...     ...    ...      ...       ...         ...   \n",
       "697             0        130    3780      0        0         0           0   \n",
       "698             0          0    4130     90        0         0           0   \n",
       "699           430       2230    7760    710      480      3430        1890   \n",
       "700             0          0       0      0        0         0           0   \n",
       "701             0        190    3250      0        0       180         350   \n",
       "\n",
       "     West Virginia  Wisconsin  Wyoming  \n",
       "0              980       3740      160  \n",
       "1            10200      32350     4840  \n",
       "2               40        200        0  \n",
       "3              260       2980       30  \n",
       "4              600       5730      180  \n",
       "..             ...        ...      ...  \n",
       "697            110         80        0  \n",
       "698            550          0      550  \n",
       "699            970       2140      230  \n",
       "700            510          0        0  \n",
       "701              0        190       80  \n",
       "\n",
       "[702 rows x 54 columns]"
      ]
     },
     "execution_count": 2,
     "metadata": {},
     "output_type": "execute_result"
    }
   ],
   "source": [
    "automation_data = pd.read_csv('../data/occupation-automation/automation_data_by_state.csv')\n",
    "automation_data"
   ]
  },
  {
   "cell_type": "markdown",
   "id": "37225b3c",
   "metadata": {},
   "source": [
    "Now we merge the two datasets to easily filter out invalid rows."
   ]
  },
  {
   "cell_type": "code",
   "execution_count": 3,
   "id": "e5bd1441",
   "metadata": {},
   "outputs": [
    {
     "data": {
      "text/html": [
       "<div>\n",
       "<style scoped>\n",
       "    .dataframe tbody tr th:only-of-type {\n",
       "        vertical-align: middle;\n",
       "    }\n",
       "\n",
       "    .dataframe tbody tr th {\n",
       "        vertical-align: top;\n",
       "    }\n",
       "\n",
       "    .dataframe thead th {\n",
       "        text-align: right;\n",
       "    }\n",
       "</style>\n",
       "<table border=\"1\" class=\"dataframe\">\n",
       "  <thead>\n",
       "    <tr style=\"text-align: right;\">\n",
       "      <th></th>\n",
       "      <th>SOC</th>\n",
       "      <th>Occupation</th>\n",
       "      <th>Probability</th>\n",
       "      <th>Alabama</th>\n",
       "      <th>Alaska</th>\n",
       "      <th>Arizona</th>\n",
       "      <th>Arkansas</th>\n",
       "      <th>California</th>\n",
       "      <th>Colorado</th>\n",
       "      <th>Connecticut</th>\n",
       "      <th>...</th>\n",
       "      <th>H_MEDIAN</th>\n",
       "      <th>H_PCT75</th>\n",
       "      <th>H_PCT90</th>\n",
       "      <th>A_PCT10</th>\n",
       "      <th>A_PCT25</th>\n",
       "      <th>A_MEDIAN</th>\n",
       "      <th>A_PCT75</th>\n",
       "      <th>A_PCT90</th>\n",
       "      <th>ANNUAL</th>\n",
       "      <th>HOURLY</th>\n",
       "    </tr>\n",
       "  </thead>\n",
       "  <tbody>\n",
       "    <tr>\n",
       "      <th>0</th>\n",
       "      <td>11-1011</td>\n",
       "      <td>Chief Executives</td>\n",
       "      <td>0.015</td>\n",
       "      <td>1030</td>\n",
       "      <td>760</td>\n",
       "      <td>5750</td>\n",
       "      <td>2710</td>\n",
       "      <td>31150</td>\n",
       "      <td>880</td>\n",
       "      <td>1410</td>\n",
       "      <td>...</td>\n",
       "      <td>87.12</td>\n",
       "      <td>#</td>\n",
       "      <td>#</td>\n",
       "      <td>69780</td>\n",
       "      <td>114100</td>\n",
       "      <td>181210</td>\n",
       "      <td>#</td>\n",
       "      <td>#</td>\n",
       "      <td>NaN</td>\n",
       "      <td>NaN</td>\n",
       "    </tr>\n",
       "    <tr>\n",
       "      <th>1</th>\n",
       "      <td>11-1021</td>\n",
       "      <td>General and Operations Managers</td>\n",
       "      <td>0.160</td>\n",
       "      <td>26930</td>\n",
       "      <td>6490</td>\n",
       "      <td>43300</td>\n",
       "      <td>20680</td>\n",
       "      <td>261780</td>\n",
       "      <td>41540</td>\n",
       "      <td>33280</td>\n",
       "      <td>...</td>\n",
       "      <td>47.74</td>\n",
       "      <td>74.53</td>\n",
       "      <td>#</td>\n",
       "      <td>44290</td>\n",
       "      <td>64890</td>\n",
       "      <td>99310</td>\n",
       "      <td>155020</td>\n",
       "      <td>#</td>\n",
       "      <td>NaN</td>\n",
       "      <td>NaN</td>\n",
       "    </tr>\n",
       "    <tr>\n",
       "      <th>2</th>\n",
       "      <td>11-2011</td>\n",
       "      <td>Advertising and Promotions Managers</td>\n",
       "      <td>0.039</td>\n",
       "      <td>50</td>\n",
       "      <td>40</td>\n",
       "      <td>470</td>\n",
       "      <td>110</td>\n",
       "      <td>3760</td>\n",
       "      <td>480</td>\n",
       "      <td>300</td>\n",
       "      <td>...</td>\n",
       "      <td>48.47</td>\n",
       "      <td>70.98</td>\n",
       "      <td>#</td>\n",
       "      <td>44950</td>\n",
       "      <td>67000</td>\n",
       "      <td>100810</td>\n",
       "      <td>147640</td>\n",
       "      <td>#</td>\n",
       "      <td>NaN</td>\n",
       "      <td>NaN</td>\n",
       "    </tr>\n",
       "    <tr>\n",
       "      <th>3</th>\n",
       "      <td>11-2021</td>\n",
       "      <td>Marketing Managers</td>\n",
       "      <td>0.014</td>\n",
       "      <td>530</td>\n",
       "      <td>200</td>\n",
       "      <td>4790</td>\n",
       "      <td>1090</td>\n",
       "      <td>33390</td>\n",
       "      <td>3060</td>\n",
       "      <td>4970</td>\n",
       "      <td>...</td>\n",
       "      <td>63.07</td>\n",
       "      <td>85.91</td>\n",
       "      <td>#</td>\n",
       "      <td>67490</td>\n",
       "      <td>93200</td>\n",
       "      <td>131180</td>\n",
       "      <td>178690</td>\n",
       "      <td>#</td>\n",
       "      <td>NaN</td>\n",
       "      <td>NaN</td>\n",
       "    </tr>\n",
       "    <tr>\n",
       "      <th>4</th>\n",
       "      <td>11-2022</td>\n",
       "      <td>Sales Managers</td>\n",
       "      <td>0.013</td>\n",
       "      <td>2510</td>\n",
       "      <td>400</td>\n",
       "      <td>10650</td>\n",
       "      <td>2650</td>\n",
       "      <td>69180</td>\n",
       "      <td>4570</td>\n",
       "      <td>7040</td>\n",
       "      <td>...</td>\n",
       "      <td>56.71</td>\n",
       "      <td>80.91</td>\n",
       "      <td>#</td>\n",
       "      <td>55790</td>\n",
       "      <td>79420</td>\n",
       "      <td>117960</td>\n",
       "      <td>168300</td>\n",
       "      <td>#</td>\n",
       "      <td>NaN</td>\n",
       "      <td>NaN</td>\n",
       "    </tr>\n",
       "    <tr>\n",
       "      <th>...</th>\n",
       "      <td>...</td>\n",
       "      <td>...</td>\n",
       "      <td>...</td>\n",
       "      <td>...</td>\n",
       "      <td>...</td>\n",
       "      <td>...</td>\n",
       "      <td>...</td>\n",
       "      <td>...</td>\n",
       "      <td>...</td>\n",
       "      <td>...</td>\n",
       "      <td>...</td>\n",
       "      <td>...</td>\n",
       "      <td>...</td>\n",
       "      <td>...</td>\n",
       "      <td>...</td>\n",
       "      <td>...</td>\n",
       "      <td>...</td>\n",
       "      <td>...</td>\n",
       "      <td>...</td>\n",
       "      <td>...</td>\n",
       "      <td>...</td>\n",
       "    </tr>\n",
       "    <tr>\n",
       "      <th>683</th>\n",
       "      <td>53-7072</td>\n",
       "      <td>Pump Operators; Except Wellhead Pumpers</td>\n",
       "      <td>0.900</td>\n",
       "      <td>0</td>\n",
       "      <td>0</td>\n",
       "      <td>0</td>\n",
       "      <td>0</td>\n",
       "      <td>1130</td>\n",
       "      <td>190</td>\n",
       "      <td>0</td>\n",
       "      <td>...</td>\n",
       "      <td>20.42</td>\n",
       "      <td>28.15</td>\n",
       "      <td>35.46</td>\n",
       "      <td>26600</td>\n",
       "      <td>32200</td>\n",
       "      <td>42470</td>\n",
       "      <td>58560</td>\n",
       "      <td>73750</td>\n",
       "      <td>NaN</td>\n",
       "      <td>NaN</td>\n",
       "    </tr>\n",
       "    <tr>\n",
       "      <th>684</th>\n",
       "      <td>53-7073</td>\n",
       "      <td>Wellhead Pumpers</td>\n",
       "      <td>0.840</td>\n",
       "      <td>0</td>\n",
       "      <td>0</td>\n",
       "      <td>0</td>\n",
       "      <td>180</td>\n",
       "      <td>220</td>\n",
       "      <td>600</td>\n",
       "      <td>0</td>\n",
       "      <td>...</td>\n",
       "      <td>23.85</td>\n",
       "      <td>30.05</td>\n",
       "      <td>36.35</td>\n",
       "      <td>27940</td>\n",
       "      <td>36630</td>\n",
       "      <td>49610</td>\n",
       "      <td>62500</td>\n",
       "      <td>75610</td>\n",
       "      <td>NaN</td>\n",
       "      <td>NaN</td>\n",
       "    </tr>\n",
       "    <tr>\n",
       "      <th>685</th>\n",
       "      <td>53-7081</td>\n",
       "      <td>Refuse and Recyclable Material Collectors</td>\n",
       "      <td>0.930</td>\n",
       "      <td>2070</td>\n",
       "      <td>210</td>\n",
       "      <td>1980</td>\n",
       "      <td>1530</td>\n",
       "      <td>13850</td>\n",
       "      <td>1710</td>\n",
       "      <td>910</td>\n",
       "      <td>...</td>\n",
       "      <td>16.95</td>\n",
       "      <td>22.43</td>\n",
       "      <td>29.09</td>\n",
       "      <td>20650</td>\n",
       "      <td>26090</td>\n",
       "      <td>35270</td>\n",
       "      <td>46650</td>\n",
       "      <td>60500</td>\n",
       "      <td>NaN</td>\n",
       "      <td>NaN</td>\n",
       "    </tr>\n",
       "    <tr>\n",
       "      <th>686</th>\n",
       "      <td>53-7111</td>\n",
       "      <td>Mine Shuttle Car Operators</td>\n",
       "      <td>0.370</td>\n",
       "      <td>50</td>\n",
       "      <td>0</td>\n",
       "      <td>0</td>\n",
       "      <td>0</td>\n",
       "      <td>0</td>\n",
       "      <td>70</td>\n",
       "      <td>0</td>\n",
       "      <td>...</td>\n",
       "      <td>27.14</td>\n",
       "      <td>29.91</td>\n",
       "      <td>32.73</td>\n",
       "      <td>44120</td>\n",
       "      <td>49880</td>\n",
       "      <td>56450</td>\n",
       "      <td>62200</td>\n",
       "      <td>68080</td>\n",
       "      <td>NaN</td>\n",
       "      <td>NaN</td>\n",
       "    </tr>\n",
       "    <tr>\n",
       "      <th>687</th>\n",
       "      <td>53-7121</td>\n",
       "      <td>Tank Car; Truck; and Ship Loaders</td>\n",
       "      <td>0.720</td>\n",
       "      <td>600</td>\n",
       "      <td>80</td>\n",
       "      <td>110</td>\n",
       "      <td>50</td>\n",
       "      <td>360</td>\n",
       "      <td>80</td>\n",
       "      <td>0</td>\n",
       "      <td>...</td>\n",
       "      <td>17.2</td>\n",
       "      <td>22.78</td>\n",
       "      <td>31.82</td>\n",
       "      <td>22510</td>\n",
       "      <td>27570</td>\n",
       "      <td>35770</td>\n",
       "      <td>47380</td>\n",
       "      <td>66190</td>\n",
       "      <td>NaN</td>\n",
       "      <td>NaN</td>\n",
       "    </tr>\n",
       "  </tbody>\n",
       "</table>\n",
       "<p>685 rows × 74 columns</p>\n",
       "</div>"
      ],
      "text/plain": [
       "         SOC                                 Occupation  Probability  Alabama  \\\n",
       "0    11-1011                           Chief Executives        0.015     1030   \n",
       "1    11-1021            General and Operations Managers        0.160    26930   \n",
       "2    11-2011        Advertising and Promotions Managers        0.039       50   \n",
       "3    11-2021                         Marketing Managers        0.014      530   \n",
       "4    11-2022                             Sales Managers        0.013     2510   \n",
       "..       ...                                        ...          ...      ...   \n",
       "683  53-7072    Pump Operators; Except Wellhead Pumpers        0.900        0   \n",
       "684  53-7073                           Wellhead Pumpers        0.840        0   \n",
       "685  53-7081  Refuse and Recyclable Material Collectors        0.930     2070   \n",
       "686  53-7111                 Mine Shuttle Car Operators        0.370       50   \n",
       "687  53-7121          Tank Car; Truck; and Ship Loaders        0.720      600   \n",
       "\n",
       "     Alaska  Arizona  Arkansas  California  Colorado  Connecticut  ...  \\\n",
       "0       760     5750      2710       31150       880         1410  ...   \n",
       "1      6490    43300     20680      261780     41540        33280  ...   \n",
       "2        40      470       110        3760       480          300  ...   \n",
       "3       200     4790      1090       33390      3060         4970  ...   \n",
       "4       400    10650      2650       69180      4570         7040  ...   \n",
       "..      ...      ...       ...         ...       ...          ...  ...   \n",
       "683       0        0         0        1130       190            0  ...   \n",
       "684       0        0       180         220       600            0  ...   \n",
       "685     210     1980      1530       13850      1710          910  ...   \n",
       "686       0        0         0           0        70            0  ...   \n",
       "687      80      110        50         360        80            0  ...   \n",
       "\n",
       "     H_MEDIAN  H_PCT75  H_PCT90  A_PCT10  A_PCT25  A_MEDIAN  A_PCT75  A_PCT90  \\\n",
       "0       87.12        #        #    69780   114100    181210        #        #   \n",
       "1       47.74    74.53        #    44290    64890     99310   155020        #   \n",
       "2       48.47    70.98        #    44950    67000    100810   147640        #   \n",
       "3       63.07    85.91        #    67490    93200    131180   178690        #   \n",
       "4       56.71    80.91        #    55790    79420    117960   168300        #   \n",
       "..        ...      ...      ...      ...      ...       ...      ...      ...   \n",
       "683     20.42    28.15    35.46    26600    32200     42470    58560    73750   \n",
       "684     23.85    30.05    36.35    27940    36630     49610    62500    75610   \n",
       "685     16.95    22.43    29.09    20650    26090     35270    46650    60500   \n",
       "686     27.14    29.91    32.73    44120    49880     56450    62200    68080   \n",
       "687      17.2    22.78    31.82    22510    27570     35770    47380    66190   \n",
       "\n",
       "     ANNUAL  HOURLY  \n",
       "0       NaN     NaN  \n",
       "1       NaN     NaN  \n",
       "2       NaN     NaN  \n",
       "3       NaN     NaN  \n",
       "4       NaN     NaN  \n",
       "..      ...     ...  \n",
       "683     NaN     NaN  \n",
       "684     NaN     NaN  \n",
       "685     NaN     NaN  \n",
       "686     NaN     NaN  \n",
       "687     NaN     NaN  \n",
       "\n",
       "[685 rows x 74 columns]"
      ]
     },
     "execution_count": 3,
     "metadata": {},
     "output_type": "execute_result"
    }
   ],
   "source": [
    "# Merge the two datasets\n",
    "all_data = automation_data.merge(salary_data, on='SOC')\n",
    "# Filter invalid rows\n",
    "all_data = all_data[all_data['A_MEAN'].apply(lambda x: isinstance(x, int) or isinstance(x, float) or x.isnumeric())]\n",
    "all_data['A_MEAN'] = all_data['A_MEAN'].astype(float)\n",
    "all_data"
   ]
  },
  {
   "cell_type": "markdown",
   "id": "c122797c",
   "metadata": {},
   "source": [
    "Now we can use this dataframe to calculate and plot the correlation between a job's salary and its probability of automation."
   ]
  },
  {
   "cell_type": "code",
   "execution_count": 4,
   "id": "c6cc98c3",
   "metadata": {},
   "outputs": [
    {
     "name": "stdout",
     "output_type": "stream",
     "text": [
      "Correlation between salary and probability of automation: -0.5526208564212759\n"
     ]
    },
    {
     "data": {
      "image/png": "[encoded data removed]",
      "text/plain": [
       "<Figure size 432x288 with 1 Axes>"
      ]
     },
     "metadata": {
      "needs_background": "light"
     },
     "output_type": "display_data"
    }
   ],
   "source": [
    "%matplotlib inline\n",
    "import matplotlib.pyplot as plt\n",
    "\n",
    "print('Correlation between salary and probability of automation:', np.corrcoef(all_data['A_MEAN'].to_numpy(), all_data['Probability'].to_numpy())[0][1])\n",
    "plt.scatter(all_data['A_MEAN'], all_data['Probability'])\n",
    "plt.xlabel(\"Salary\")\n",
    "plt.ylabel(\"Probability of Automation\")\n",
    "plt.show()"
   ]
  },
  {
   "cell_type": "markdown",
   "id": "dc71d917",
   "metadata": {},
   "source": [
    "## State-by-state Breakdown\n",
    "\n",
    "Finally, we will break down risk of automation state-by-state, taking into account each state's population."
   ]
  },
  {
   "cell_type": "code",
   "execution_count": 28,
   "id": "c92ad15b",
   "metadata": {},
   "outputs": [],
   "source": [
    "states = [\"Alabama\",\"Alaska\",\"Arizona\",\"Arkansas\",\"California\",\"Colorado\",\"Connecticut\",\"Delaware\",\"District of Columbia\",\"Florida\",\"Georgia\",\"Hawaii\",\"Idaho\",\"Illinois\",\"Indiana\",\"Iowa\",\"Kansas\",\"Kentucky\",\"Louisiana\",\"Maine\",\"Montana\",\"Nebraska\",\"Nevada\",\"New Hampshire\",\"New Jersey\",\"New Mexico\",\"New York\",\"North Carolina\",\"North Dakota\",\"Ohio\",\"Oklahoma\",\"Oregon\",\"Maryland\",\"Massachusetts\",\"Michigan\",\"Minnesota\",\"Mississippi\",\"Missouri\",\"Pennsylvania\",\"Rhode Island\",\"South Carolina\",\"South Dakota\",\"Tennessee\",\"Texas\",\"Utah\",\"Vermont\",\"Virginia\",\"Washington\",\"West Virginia\",\"Wisconsin\",\"Wyoming\"]\n",
    "state_job_losses = pd.DataFrame(columns=states)\n",
    "\n",
    "for state in states:\n",
    "    state_job_losses[state] = np.array([(all_data['Probability'] * all_data[state]).sum()])\n",
    "    \n",
    "state_job_losses = state_job_losses.T\n",
    "state_job_losses['Estimate'] = state_job_losses[0]\n",
    "del state_job_losses[0]"
   ]
  },
  {
   "cell_type": "code",
   "execution_count": 27,
   "id": "19e925d7",
   "metadata": {},
   "outputs": [],
   "source": [
    "state_pops = pd.read_excel('../data/state-populations/state-populations.xlsx')"
   ]
  },
  {
   "cell_type": "code",
   "execution_count": 29,
   "id": "bb17019b",
   "metadata": {},
   "outputs": [],
   "source": [
    "states_df = pd.DataFrame(columns=['State', 'fips', 'Loss Estimate', 'Population', 'Adjusted Loss'])\n",
    "fips_data = pd.read_csv('../data/state_and_county_fips_master.csv')\n",
    "states_df['State'] = states\n",
    "states_df['Abbreviation'] = pd.read_csv(\"https://raw.githubusercontent.com/jasonong/List-of-US-States/master/states.csv\")[\"Abbreviation\"]\n",
    "states_df['fips'] = states_df['State'].apply(lambda state: fips_data[fips_data['name'] == state.upper()]['fips'].mean()).astype(int)\n",
    "states_df['Population'] = states_df['State'].apply(lambda state: state_pops[state_pops['State'] == state][2020].mean()).astype(int)\n",
    "states_df['Loss Estimate'] = states_df['State'].apply(lambda state: (all_data['Probability'] * all_data[state]).sum()).astype(float)\n",
    "states_df['Adjusted Loss'] = states_df['Loss Estimate'] / states_df['Population']"
   ]
  },
  {
   "cell_type": "code",
   "execution_count": 26,
   "id": "9c1a0a98",
   "metadata": {},
   "outputs": [
    {
     "data": {
      "application/vnd.plotly.v1+json": {
       "config": {
        "plotlyServerURL": "https://plot.ly"
       },
       "data": [
        {
         "coloraxis": "coloraxis",
         "geo": "geo",
         "hovertemplate": "locations=%{location}<br>color=%{z}<extra></extra>",
         "locationmode": "USA-states",
         "locations": [
          "AL",
          "AK",
          "AZ",
          "AR",
          "CA",
          "CO",
          "CT",
          "DE",
          "DC",
          "FL",
          "GA",
          "HI",
          "ID",
          "IL",
          "IN",
          "IA",
          "KS",
          "KY",
          "LA",
          "ME",
          "MT",
          "NE",
          "NV",
          "NH",
          "NJ",
          "NM",
          "NY",
          "NC",
          "ND",
          "OH",
          "OK",
          "OR",
          "MD",
          "MA",
          "MI",
          "MN",
          "MS",
          "MO",
          "PA",
          "RI",
          "SC",
          "SD",
          "TN",
          "TX",
          "UT",
          "VT",
          "VA",
          "WA",
          "WV",
          "WI",
          "WY"
         ],
         "name": "",
         "type": "choropleth",
         "z": [
          0.23040395055291757,
          0.24110080523097416,
          0.21972012167677277,
          0.22773961647755522,
          0.22537408016480187,
          0.2588482282257442,
          0.23426905817049734,
          0.2512104052190918,
          0.4432575022061646,
          0.2473009381793077,
          0.23807360709554728,
          0.2513311972864829,
          0.23101854129480945,
          0.23949341419814707,
          0.26383833050423194,
          0.2788022059149377,
          0.26298191978039465,
          0.24138201078636587,
          0.23915218362843377,
          0.24228372407801796,
          0.25560073073482814,
          0.29552165833215155,
          0.28049386291908573,
          0.26443815658541403,
          0.23334659664914068,
          0.20859763478551407,
          0.24346928920076902,
          0.2434052016033168,
          0.351666476357846,
          0.2508282857614404,
          0.23551927318984547,
          0.2434060086022875,
          0.22387511795165263,
          0.2555367009951236,
          0.23378174599641433,
          0.27942584086313443,
          0.2139057003731005,
          0.2551425874785249,
          0.2508916300639431,
          0.2305304118407664,
          0.24518977468584094,
          0.3049191419587806,
          0.25703577012986706,
          0.26309134809121976,
          0.2690400581066144,
          0.2513205543507618,
          0.23723828674929606,
          0.23906726527018946,
          0.20857503694021676,
          0.277588869921607,
          0.27481965878082276
         ]
        }
       ],
       "layout": {
        "coloraxis": {
         "colorbar": {
          "title": {
           "text": "color"
          }
         },
         "colorscale": [
          [
           0,
           "#0d0887"
          ],
          [
           0.1111111111111111,
           "#46039f"
          ],
          [
           0.2222222222222222,
           "#7201a8"
          ],
          [
           0.3333333333333333,
           "#9c179e"
          ],
          [
           0.4444444444444444,
           "#bd3786"
          ],
          [
           0.5555555555555556,
           "#d8576b"
          ],
          [
           0.6666666666666666,
           "#ed7953"
          ],
          [
           0.7777777777777778,
           "#fb9f3a"
          ],
          [
           0.8888888888888888,
           "#fdca26"
          ],
          [
           1,
           "#f0f921"
          ]
         ]
        },
        "geo": {
         "center": {},
         "domain": {
          "x": [
           0,
           1
          ],
          "y": [
           0,
           1
          ]
         },
         "scope": "usa"
        },
        "legend": {
         "tracegroupgap": 0
        },
        "margin": {
         "t": 60
        },
        "template": {
         "data": {
          "bar": [
           {
            "error_x": {
             "color": "#2a3f5f"
            },
            "error_y": {
             "color": "#2a3f5f"
            },
            "marker": {
             "line": {
              "color": "#E5ECF6",
              "width": 0.5
             },
             "pattern": {
              "fillmode": "overlay",
              "size": 10,
              "solidity": 0.2
             }
            },
            "type": "bar"
           }
          ],
          "barpolar": [
           {
            "marker": {
             "line": {
              "color": "#E5ECF6",
              "width": 0.5
             },
             "pattern": {
              "fillmode": "overlay",
              "size": 10,
              "solidity": 0.2
             }
            },
            "type": "barpolar"
           }
          ],
          "carpet": [
           {
            "aaxis": {
             "endlinecolor": "#2a3f5f",
             "gridcolor": "white",
             "linecolor": "white",
             "minorgridcolor": "white",
             "startlinecolor": "#2a3f5f"
            },
            "baxis": {
             "endlinecolor": "#2a3f5f",
             "gridcolor": "white",
             "linecolor": "white",
             "minorgridcolor": "white",
             "startlinecolor": "#2a3f5f"
            },
            "type": "carpet"
           }
          ],
          "choropleth": [
           {
            "colorbar": {
             "outlinewidth": 0,
             "ticks": ""
            },
            "type": "choropleth"
           }
          ],
          "contour": [
           {
            "colorbar": {
             "outlinewidth": 0,
             "ticks": ""
            },
            "colorscale": [
             [
              0,
              "#0d0887"
             ],
             [
              0.1111111111111111,
              "#46039f"
             ],
             [
              0.2222222222222222,
              "#7201a8"
             ],
             [
              0.3333333333333333,
              "#9c179e"
             ],
             [
              0.4444444444444444,
              "#bd3786"
             ],
             [
              0.5555555555555556,
              "#d8576b"
             ],
             [
              0.6666666666666666,
              "#ed7953"
             ],
             [
              0.7777777777777778,
              "#fb9f3a"
             ],
             [
              0.8888888888888888,
              "#fdca26"
             ],
             [
              1,
              "#f0f921"
             ]
            ],
            "type": "contour"
           }
          ],
          "contourcarpet": [
           {
            "colorbar": {
             "outlinewidth": 0,
             "ticks": ""
            },
            "type": "contourcarpet"
           }
          ],
          "heatmap": [
           {
            "colorbar": {
             "outlinewidth": 0,
             "ticks": ""
            },
            "colorscale": [
             [
              0,
              "#0d0887"
             ],
             [
              0.1111111111111111,
              "#46039f"
             ],
             [
              0.2222222222222222,
              "#7201a8"
             ],
             [
              0.3333333333333333,
              "#9c179e"
             ],
             [
              0.4444444444444444,
              "#bd3786"
             ],
             [
              0.5555555555555556,
              "#d8576b"
             ],
             [
              0.6666666666666666,
              "#ed7953"
             ],
             [
              0.7777777777777778,
              "#fb9f3a"
             ],
             [
              0.8888888888888888,
              "#fdca26"
             ],
             [
              1,
              "#f0f921"
             ]
            ],
            "type": "heatmap"
           }
          ],
          "heatmapgl": [
           {
            "colorbar": {
             "outlinewidth": 0,
             "ticks": ""
            },
            "colorscale": [
             [
              0,
              "#0d0887"
             ],
             [
              0.1111111111111111,
              "#46039f"
             ],
             [
              0.2222222222222222,
              "#7201a8"
             ],
             [
              0.3333333333333333,
              "#9c179e"
             ],
             [
              0.4444444444444444,
              "#bd3786"
             ],
             [
              0.5555555555555556,
              "#d8576b"
             ],
             [
              0.6666666666666666,
              "#ed7953"
             ],
             [
              0.7777777777777778,
              "#fb9f3a"
             ],
             [
              0.8888888888888888,
              "#fdca26"
             ],
             [
              1,
              "#f0f921"
             ]
            ],
            "type": "heatmapgl"
           }
          ],
          "histogram": [
           {
            "marker": {
             "pattern": {
              "fillmode": "overlay",
              "size": 10,
              "solidity": 0.2
             }
            },
            "type": "histogram"
           }
          ],
          "histogram2d": [
           {
            "colorbar": {
             "outlinewidth": 0,
             "ticks": ""
            },
            "colorscale": [
             [
              0,
              "#0d0887"
             ],
             [
              0.1111111111111111,
              "#46039f"
             ],
             [
              0.2222222222222222,
              "#7201a8"
             ],
             [
              0.3333333333333333,
              "#9c179e"
             ],
             [
              0.4444444444444444,
              "#bd3786"
             ],
             [
              0.5555555555555556,
              "#d8576b"
             ],
             [
              0.6666666666666666,
              "#ed7953"
             ],
             [
              0.7777777777777778,
              "#fb9f3a"
             ],
             [
              0.8888888888888888,
              "#fdca26"
             ],
             [
              1,
              "#f0f921"
             ]
            ],
            "type": "histogram2d"
           }
          ],
          "histogram2dcontour": [
           {
            "colorbar": {
             "outlinewidth": 0,
             "ticks": ""
            },
            "colorscale": [
             [
              0,
              "#0d0887"
             ],
             [
              0.1111111111111111,
              "#46039f"
             ],
             [
              0.2222222222222222,
              "#7201a8"
             ],
             [
              0.3333333333333333,
              "#9c179e"
             ],
             [
              0.4444444444444444,
              "#bd3786"
             ],
             [
              0.5555555555555556,
              "#d8576b"
             ],
             [
              0.6666666666666666,
              "#ed7953"
             ],
             [
              0.7777777777777778,
              "#fb9f3a"
             ],
             [
              0.8888888888888888,
              "#fdca26"
             ],
             [
              1,
              "#f0f921"
             ]
            ],
            "type": "histogram2dcontour"
           }
          ],
          "mesh3d": [
           {
            "colorbar": {
             "outlinewidth": 0,
             "ticks": ""
            },
            "type": "mesh3d"
           }
          ],
          "parcoords": [
           {
            "line": {
             "colorbar": {
              "outlinewidth": 0,
              "ticks": ""
             }
            },
            "type": "parcoords"
           }
          ],
          "pie": [
           {
            "automargin": true,
            "type": "pie"
           }
          ],
          "scatter": [
           {
            "marker": {
             "colorbar": {
              "outlinewidth": 0,
              "ticks": ""
             }
            },
            "type": "scatter"
           }
          ],
          "scatter3d": [
           {
            "line": {
             "colorbar": {
              "outlinewidth": 0,
              "ticks": ""
             }
            },
            "marker": {
             "colorbar": {
              "outlinewidth": 0,
              "ticks": ""
             }
            },
            "type": "scatter3d"
           }
          ],
          "scattercarpet": [
           {
            "marker": {
             "colorbar": {
              "outlinewidth": 0,
              "ticks": ""
             }
            },
            "type": "scattercarpet"
           }
          ],
          "scattergeo": [
           {
            "marker": {
             "colorbar": {
              "outlinewidth": 0,
              "ticks": ""
             }
            },
            "type": "scattergeo"
           }
          ],
          "scattergl": [
           {
            "marker": {
             "colorbar": {
              "outlinewidth": 0,
              "ticks": ""
             }
            },
            "type": "scattergl"
           }
          ],
          "scattermapbox": [
           {
            "marker": {
             "colorbar": {
              "outlinewidth": 0,
              "ticks": ""
             }
            },
            "type": "scattermapbox"
           }
          ],
          "scatterpolar": [
           {
            "marker": {
             "colorbar": {
              "outlinewidth": 0,
              "ticks": ""
             }
            },
            "type": "scatterpolar"
           }
          ],
          "scatterpolargl": [
           {
            "marker": {
             "colorbar": {
              "outlinewidth": 0,
              "ticks": ""
             }
            },
            "type": "scatterpolargl"
           }
          ],
          "scatterternary": [
           {
            "marker": {
             "colorbar": {
              "outlinewidth": 0,
              "ticks": ""
             }
            },
            "type": "scatterternary"
           }
          ],
          "surface": [
           {
            "colorbar": {
             "outlinewidth": 0,
             "ticks": ""
            },
            "colorscale": [
             [
              0,
              "#0d0887"
             ],
             [
              0.1111111111111111,
              "#46039f"
             ],
             [
              0.2222222222222222,
              "#7201a8"
             ],
             [
              0.3333333333333333,
              "#9c179e"
             ],
             [
              0.4444444444444444,
              "#bd3786"
             ],
             [
              0.5555555555555556,
              "#d8576b"
             ],
             [
              0.6666666666666666,
              "#ed7953"
             ],
             [
              0.7777777777777778,
              "#fb9f3a"
             ],
             [
              0.8888888888888888,
              "#fdca26"
             ],
             [
              1,
              "#f0f921"
             ]
            ],
            "type": "surface"
           }
          ],
          "table": [
           {
            "cells": {
             "fill": {
              "color": "#EBF0F8"
             },
             "line": {
              "color": "white"
             }
            },
            "header": {
             "fill": {
              "color": "#C8D4E3"
             },
             "line": {
              "color": "white"
             }
            },
            "type": "table"
           }
          ]
         },
         "layout": {
          "annotationdefaults": {
           "arrowcolor": "#2a3f5f",
           "arrowhead": 0,
           "arrowwidth": 1
          },
          "autotypenumbers": "strict",
          "coloraxis": {
           "colorbar": {
            "outlinewidth": 0,
            "ticks": ""
           }
          },
          "colorscale": {
           "diverging": [
            [
             0,
             "#8e0152"
            ],
            [
             0.1,
             "#c51b7d"
            ],
            [
             0.2,
             "#de77ae"
            ],
            [
             0.3,
             "#f1b6da"
            ],
            [
             0.4,
             "#fde0ef"
            ],
            [
             0.5,
             "#f7f7f7"
            ],
            [
             0.6,
             "#e6f5d0"
            ],
            [
             0.7,
             "#b8e186"
            ],
            [
             0.8,
             "#7fbc41"
            ],
            [
             0.9,
             "#4d9221"
            ],
            [
             1,
             "#276419"
            ]
           ],
           "sequential": [
            [
             0,
             "#0d0887"
            ],
            [
             0.1111111111111111,
             "#46039f"
            ],
            [
             0.2222222222222222,
             "#7201a8"
            ],
            [
             0.3333333333333333,
             "#9c179e"
            ],
            [
             0.4444444444444444,
             "#bd3786"
            ],
            [
             0.5555555555555556,
             "#d8576b"
            ],
            [
             0.6666666666666666,
             "#ed7953"
            ],
            [
             0.7777777777777778,
             "#fb9f3a"
            ],
            [
             0.8888888888888888,
             "#fdca26"
            ],
            [
             1,
             "#f0f921"
            ]
           ],
           "sequentialminus": [
            [
             0,
             "#0d0887"
            ],
            [
             0.1111111111111111,
             "#46039f"
            ],
            [
             0.2222222222222222,
             "#7201a8"
            ],
            [
             0.3333333333333333,
             "#9c179e"
            ],
            [
             0.4444444444444444,
             "#bd3786"
            ],
            [
             0.5555555555555556,
             "#d8576b"
            ],
            [
             0.6666666666666666,
             "#ed7953"
            ],
            [
             0.7777777777777778,
             "#fb9f3a"
            ],
            [
             0.8888888888888888,
             "#fdca26"
            ],
            [
             1,
             "#f0f921"
            ]
           ]
          },
          "colorway": [
           "#636efa",
           "#EF553B",
           "#00cc96",
           "#ab63fa",
           "#FFA15A",
           "#19d3f3",
           "#FF6692",
           "#B6E880",
           "#FF97FF",
           "#FECB52"
          ],
          "font": {
           "color": "#2a3f5f"
          },
          "geo": {
           "bgcolor": "white",
           "lakecolor": "white",
           "landcolor": "#E5ECF6",
           "showlakes": true,
           "showland": true,
           "subunitcolor": "white"
          },
          "hoverlabel": {
           "align": "left"
          },
          "hovermode": "closest",
          "mapbox": {
           "style": "light"
          },
          "paper_bgcolor": "white",
          "plot_bgcolor": "#E5ECF6",
          "polar": {
           "angularaxis": {
            "gridcolor": "white",
            "linecolor": "white",
            "ticks": ""
           },
           "bgcolor": "#E5ECF6",
           "radialaxis": {
            "gridcolor": "white",
            "linecolor": "white",
            "ticks": ""
           }
          },
          "scene": {
           "xaxis": {
            "backgroundcolor": "#E5ECF6",
            "gridcolor": "white",
            "gridwidth": 2,
            "linecolor": "white",
            "showbackground": true,
            "ticks": "",
            "zerolinecolor": "white"
           },
           "yaxis": {
            "backgroundcolor": "#E5ECF6",
            "gridcolor": "white",
            "gridwidth": 2,
            "linecolor": "white",
            "showbackground": true,
            "ticks": "",
            "zerolinecolor": "white"
           },
           "zaxis": {
            "backgroundcolor": "#E5ECF6",
            "gridcolor": "white",
            "gridwidth": 2,
            "linecolor": "white",
            "showbackground": true,
            "ticks": "",
            "zerolinecolor": "white"
           }
          },
          "shapedefaults": {
           "line": {
            "color": "#2a3f5f"
           }
          },
          "ternary": {
           "aaxis": {
            "gridcolor": "white",
            "linecolor": "white",
            "ticks": ""
           },
           "baxis": {
            "gridcolor": "white",
            "linecolor": "white",
            "ticks": ""
           },
           "bgcolor": "#E5ECF6",
           "caxis": {
            "gridcolor": "white",
            "linecolor": "white",
            "ticks": ""
           }
          },
          "title": {
           "x": 0.05
          },
          "xaxis": {
           "automargin": true,
           "gridcolor": "white",
           "linecolor": "white",
           "ticks": "",
           "title": {
            "standoff": 15
           },
           "zerolinecolor": "white",
           "zerolinewidth": 2
          },
          "yaxis": {
           "automargin": true,
           "gridcolor": "white",
           "linecolor": "white",
           "ticks": "",
           "title": {
            "standoff": 15
           },
           "zerolinecolor": "white",
           "zerolinewidth": 2
          }
         }
        }
       }
      },
      "text/html": [
       "<div>                            <div id=\"bf821c7c-a6c7-48b8-b3b9-07d7c00ac365\" class=\"plotly-graph-div\" style=\"height:525px; width:100%;\"></div>            <script type=\"text/javascript\">                require([\"plotly\"], function(Plotly) {                    window.PLOTLYENV=window.PLOTLYENV || {};                                    if (document.getElementById(\"bf821c7c-a6c7-48b8-b3b9-07d7c00ac365\")) {                    Plotly.newPlot(                        \"bf821c7c-a6c7-48b8-b3b9-07d7c00ac365\",                        [{\"coloraxis\":\"coloraxis\",\"geo\":\"geo\",\"hovertemplate\":\"locations=%{location}<br>color=%{z}<extra></extra>\",\"locationmode\":\"USA-states\",\"locations\":[\"AL\",\"AK\",\"AZ\",\"AR\",\"CA\",\"CO\",\"CT\",\"DE\",\"DC\",\"FL\",\"GA\",\"HI\",\"ID\",\"IL\",\"IN\",\"IA\",\"KS\",\"KY\",\"LA\",\"ME\",\"MT\",\"NE\",\"NV\",\"NH\",\"NJ\",\"NM\",\"NY\",\"NC\",\"ND\",\"OH\",\"OK\",\"OR\",\"MD\",\"MA\",\"MI\",\"MN\",\"MS\",\"MO\",\"PA\",\"RI\",\"SC\",\"SD\",\"TN\",\"TX\",\"UT\",\"VT\",\"VA\",\"WA\",\"WV\",\"WI\",\"WY\"],\"name\":\"\",\"type\":\"choropleth\",\"z\":[0.23040395055291757,0.24110080523097416,0.21972012167677277,0.22773961647755522,0.22537408016480187,0.2588482282257442,0.23426905817049734,0.2512104052190918,0.4432575022061646,0.2473009381793077,0.23807360709554728,0.2513311972864829,0.23101854129480945,0.23949341419814707,0.26383833050423194,0.2788022059149377,0.26298191978039465,0.24138201078636587,0.23915218362843377,0.24228372407801796,0.25560073073482814,0.29552165833215155,0.28049386291908573,0.26443815658541403,0.23334659664914068,0.20859763478551407,0.24346928920076902,0.2434052016033168,0.351666476357846,0.2508282857614404,0.23551927318984547,0.2434060086022875,0.22387511795165263,0.2555367009951236,0.23378174599641433,0.27942584086313443,0.2139057003731005,0.2551425874785249,0.2508916300639431,0.2305304118407664,0.24518977468584094,0.3049191419587806,0.25703577012986706,0.26309134809121976,0.2690400581066144,0.2513205543507618,0.23723828674929606,0.23906726527018946,0.20857503694021676,0.277588869921607,0.27481965878082276]}],                        {\"coloraxis\":{\"colorbar\":{\"title\":{\"text\":\"color\"}},\"colorscale\":[[0.0,\"#0d0887\"],[0.1111111111111111,\"#46039f\"],[0.2222222222222222,\"#7201a8\"],[0.3333333333333333,\"#9c179e\"],[0.4444444444444444,\"#bd3786\"],[0.5555555555555556,\"#d8576b\"],[0.6666666666666666,\"#ed7953\"],[0.7777777777777778,\"#fb9f3a\"],[0.8888888888888888,\"#fdca26\"],[1.0,\"#f0f921\"]]},\"geo\":{\"center\":{},\"domain\":{\"x\":[0.0,1.0],\"y\":[0.0,1.0]},\"scope\":\"usa\"},\"legend\":{\"tracegroupgap\":0},\"margin\":{\"t\":60},\"template\":{\"data\":{\"bar\":[{\"error_x\":{\"color\":\"#2a3f5f\"},\"error_y\":{\"color\":\"#2a3f5f\"},\"marker\":{\"line\":{\"color\":\"#E5ECF6\",\"width\":0.5},\"pattern\":{\"fillmode\":\"overlay\",\"size\":10,\"solidity\":0.2}},\"type\":\"bar\"}],\"barpolar\":[{\"marker\":{\"line\":{\"color\":\"#E5ECF6\",\"width\":0.5},\"pattern\":{\"fillmode\":\"overlay\",\"size\":10,\"solidity\":0.2}},\"type\":\"barpolar\"}],\"carpet\":[{\"aaxis\":{\"endlinecolor\":\"#2a3f5f\",\"gridcolor\":\"white\",\"linecolor\":\"white\",\"minorgridcolor\":\"white\",\"startlinecolor\":\"#2a3f5f\"},\"baxis\":{\"endlinecolor\":\"#2a3f5f\",\"gridcolor\":\"white\",\"linecolor\":\"white\",\"minorgridcolor\":\"white\",\"startlinecolor\":\"#2a3f5f\"},\"type\":\"carpet\"}],\"choropleth\":[{\"colorbar\":{\"outlinewidth\":0,\"ticks\":\"\"},\"type\":\"choropleth\"}],\"contour\":[{\"colorbar\":{\"outlinewidth\":0,\"ticks\":\"\"},\"colorscale\":[[0.0,\"#0d0887\"],[0.1111111111111111,\"#46039f\"],[0.2222222222222222,\"#7201a8\"],[0.3333333333333333,\"#9c179e\"],[0.4444444444444444,\"#bd3786\"],[0.5555555555555556,\"#d8576b\"],[0.6666666666666666,\"#ed7953\"],[0.7777777777777778,\"#fb9f3a\"],[0.8888888888888888,\"#fdca26\"],[1.0,\"#f0f921\"]],\"type\":\"contour\"}],\"contourcarpet\":[{\"colorbar\":{\"outlinewidth\":0,\"ticks\":\"\"},\"type\":\"contourcarpet\"}],\"heatmap\":[{\"colorbar\":{\"outlinewidth\":0,\"ticks\":\"\"},\"colorscale\":[[0.0,\"#0d0887\"],[0.1111111111111111,\"#46039f\"],[0.2222222222222222,\"#7201a8\"],[0.3333333333333333,\"#9c179e\"],[0.4444444444444444,\"#bd3786\"],[0.5555555555555556,\"#d8576b\"],[0.6666666666666666,\"#ed7953\"],[0.7777777777777778,\"#fb9f3a\"],[0.8888888888888888,\"#fdca26\"],[1.0,\"#f0f921\"]],\"type\":\"heatmap\"}],\"heatmapgl\":[{\"colorbar\":{\"outlinewidth\":0,\"ticks\":\"\"},\"colorscale\":[[0.0,\"#0d0887\"],[0.1111111111111111,\"#46039f\"],[0.2222222222222222,\"#7201a8\"],[0.3333333333333333,\"#9c179e\"],[0.4444444444444444,\"#bd3786\"],[0.5555555555555556,\"#d8576b\"],[0.6666666666666666,\"#ed7953\"],[0.7777777777777778,\"#fb9f3a\"],[0.8888888888888888,\"#fdca26\"],[1.0,\"#f0f921\"]],\"type\":\"heatmapgl\"}],\"histogram\":[{\"marker\":{\"pattern\":{\"fillmode\":\"overlay\",\"size\":10,\"solidity\":0.2}},\"type\":\"histogram\"}],\"histogram2d\":[{\"colorbar\":{\"outlinewidth\":0,\"ticks\":\"\"},\"colorscale\":[[0.0,\"#0d0887\"],[0.1111111111111111,\"#46039f\"],[0.2222222222222222,\"#7201a8\"],[0.3333333333333333,\"#9c179e\"],[0.4444444444444444,\"#bd3786\"],[0.5555555555555556,\"#d8576b\"],[0.6666666666666666,\"#ed7953\"],[0.7777777777777778,\"#fb9f3a\"],[0.8888888888888888,\"#fdca26\"],[1.0,\"#f0f921\"]],\"type\":\"histogram2d\"}],\"histogram2dcontour\":[{\"colorbar\":{\"outlinewidth\":0,\"ticks\":\"\"},\"colorscale\":[[0.0,\"#0d0887\"],[0.1111111111111111,\"#46039f\"],[0.2222222222222222,\"#7201a8\"],[0.3333333333333333,\"#9c179e\"],[0.4444444444444444,\"#bd3786\"],[0.5555555555555556,\"#d8576b\"],[0.6666666666666666,\"#ed7953\"],[0.7777777777777778,\"#fb9f3a\"],[0.8888888888888888,\"#fdca26\"],[1.0,\"#f0f921\"]],\"type\":\"histogram2dcontour\"}],\"mesh3d\":[{\"colorbar\":{\"outlinewidth\":0,\"ticks\":\"\"},\"type\":\"mesh3d\"}],\"parcoords\":[{\"line\":{\"colorbar\":{\"outlinewidth\":0,\"ticks\":\"\"}},\"type\":\"parcoords\"}],\"pie\":[{\"automargin\":true,\"type\":\"pie\"}],\"scatter\":[{\"marker\":{\"colorbar\":{\"outlinewidth\":0,\"ticks\":\"\"}},\"type\":\"scatter\"}],\"scatter3d\":[{\"line\":{\"colorbar\":{\"outlinewidth\":0,\"ticks\":\"\"}},\"marker\":{\"colorbar\":{\"outlinewidth\":0,\"ticks\":\"\"}},\"type\":\"scatter3d\"}],\"scattercarpet\":[{\"marker\":{\"colorbar\":{\"outlinewidth\":0,\"ticks\":\"\"}},\"type\":\"scattercarpet\"}],\"scattergeo\":[{\"marker\":{\"colorbar\":{\"outlinewidth\":0,\"ticks\":\"\"}},\"type\":\"scattergeo\"}],\"scattergl\":[{\"marker\":{\"colorbar\":{\"outlinewidth\":0,\"ticks\":\"\"}},\"type\":\"scattergl\"}],\"scattermapbox\":[{\"marker\":{\"colorbar\":{\"outlinewidth\":0,\"ticks\":\"\"}},\"type\":\"scattermapbox\"}],\"scatterpolar\":[{\"marker\":{\"colorbar\":{\"outlinewidth\":0,\"ticks\":\"\"}},\"type\":\"scatterpolar\"}],\"scatterpolargl\":[{\"marker\":{\"colorbar\":{\"outlinewidth\":0,\"ticks\":\"\"}},\"type\":\"scatterpolargl\"}],\"scatterternary\":[{\"marker\":{\"colorbar\":{\"outlinewidth\":0,\"ticks\":\"\"}},\"type\":\"scatterternary\"}],\"surface\":[{\"colorbar\":{\"outlinewidth\":0,\"ticks\":\"\"},\"colorscale\":[[0.0,\"#0d0887\"],[0.1111111111111111,\"#46039f\"],[0.2222222222222222,\"#7201a8\"],[0.3333333333333333,\"#9c179e\"],[0.4444444444444444,\"#bd3786\"],[0.5555555555555556,\"#d8576b\"],[0.6666666666666666,\"#ed7953\"],[0.7777777777777778,\"#fb9f3a\"],[0.8888888888888888,\"#fdca26\"],[1.0,\"#f0f921\"]],\"type\":\"surface\"}],\"table\":[{\"cells\":{\"fill\":{\"color\":\"#EBF0F8\"},\"line\":{\"color\":\"white\"}},\"header\":{\"fill\":{\"color\":\"#C8D4E3\"},\"line\":{\"color\":\"white\"}},\"type\":\"table\"}]},\"layout\":{\"annotationdefaults\":{\"arrowcolor\":\"#2a3f5f\",\"arrowhead\":0,\"arrowwidth\":1},\"autotypenumbers\":\"strict\",\"coloraxis\":{\"colorbar\":{\"outlinewidth\":0,\"ticks\":\"\"}},\"colorscale\":{\"diverging\":[[0,\"#8e0152\"],[0.1,\"#c51b7d\"],[0.2,\"#de77ae\"],[0.3,\"#f1b6da\"],[0.4,\"#fde0ef\"],[0.5,\"#f7f7f7\"],[0.6,\"#e6f5d0\"],[0.7,\"#b8e186\"],[0.8,\"#7fbc41\"],[0.9,\"#4d9221\"],[1,\"#276419\"]],\"sequential\":[[0.0,\"#0d0887\"],[0.1111111111111111,\"#46039f\"],[0.2222222222222222,\"#7201a8\"],[0.3333333333333333,\"#9c179e\"],[0.4444444444444444,\"#bd3786\"],[0.5555555555555556,\"#d8576b\"],[0.6666666666666666,\"#ed7953\"],[0.7777777777777778,\"#fb9f3a\"],[0.8888888888888888,\"#fdca26\"],[1.0,\"#f0f921\"]],\"sequentialminus\":[[0.0,\"#0d0887\"],[0.1111111111111111,\"#46039f\"],[0.2222222222222222,\"#7201a8\"],[0.3333333333333333,\"#9c179e\"],[0.4444444444444444,\"#bd3786\"],[0.5555555555555556,\"#d8576b\"],[0.6666666666666666,\"#ed7953\"],[0.7777777777777778,\"#fb9f3a\"],[0.8888888888888888,\"#fdca26\"],[1.0,\"#f0f921\"]]},\"colorway\":[\"#636efa\",\"#EF553B\",\"#00cc96\",\"#ab63fa\",\"#FFA15A\",\"#19d3f3\",\"#FF6692\",\"#B6E880\",\"#FF97FF\",\"#FECB52\"],\"font\":{\"color\":\"#2a3f5f\"},\"geo\":{\"bgcolor\":\"white\",\"lakecolor\":\"white\",\"landcolor\":\"#E5ECF6\",\"showlakes\":true,\"showland\":true,\"subunitcolor\":\"white\"},\"hoverlabel\":{\"align\":\"left\"},\"hovermode\":\"closest\",\"mapbox\":{\"style\":\"light\"},\"paper_bgcolor\":\"white\",\"plot_bgcolor\":\"#E5ECF6\",\"polar\":{\"angularaxis\":{\"gridcolor\":\"white\",\"linecolor\":\"white\",\"ticks\":\"\"},\"bgcolor\":\"#E5ECF6\",\"radialaxis\":{\"gridcolor\":\"white\",\"linecolor\":\"white\",\"ticks\":\"\"}},\"scene\":{\"xaxis\":{\"backgroundcolor\":\"#E5ECF6\",\"gridcolor\":\"white\",\"gridwidth\":2,\"linecolor\":\"white\",\"showbackground\":true,\"ticks\":\"\",\"zerolinecolor\":\"white\"},\"yaxis\":{\"backgroundcolor\":\"#E5ECF6\",\"gridcolor\":\"white\",\"gridwidth\":2,\"linecolor\":\"white\",\"showbackground\":true,\"ticks\":\"\",\"zerolinecolor\":\"white\"},\"zaxis\":{\"backgroundcolor\":\"#E5ECF6\",\"gridcolor\":\"white\",\"gridwidth\":2,\"linecolor\":\"white\",\"showbackground\":true,\"ticks\":\"\",\"zerolinecolor\":\"white\"}},\"shapedefaults\":{\"line\":{\"color\":\"#2a3f5f\"}},\"ternary\":{\"aaxis\":{\"gridcolor\":\"white\",\"linecolor\":\"white\",\"ticks\":\"\"},\"baxis\":{\"gridcolor\":\"white\",\"linecolor\":\"white\",\"ticks\":\"\"},\"bgcolor\":\"#E5ECF6\",\"caxis\":{\"gridcolor\":\"white\",\"linecolor\":\"white\",\"ticks\":\"\"}},\"title\":{\"x\":0.05},\"xaxis\":{\"automargin\":true,\"gridcolor\":\"white\",\"linecolor\":\"white\",\"ticks\":\"\",\"title\":{\"standoff\":15},\"zerolinecolor\":\"white\",\"zerolinewidth\":2},\"yaxis\":{\"automargin\":true,\"gridcolor\":\"white\",\"linecolor\":\"white\",\"ticks\":\"\",\"title\":{\"standoff\":15},\"zerolinecolor\":\"white\",\"zerolinewidth\":2}}}},                        {\"responsive\": true}                    ).then(function(){\n",
       "                            \n",
       "var gd = document.getElementById('bf821c7c-a6c7-48b8-b3b9-07d7c00ac365');\n",
       "var x = new MutationObserver(function (mutations, observer) {{\n",
       "        var display = window.getComputedStyle(gd).display;\n",
       "        if (!display || display === 'none') {{\n",
       "            console.log([gd, 'removed!']);\n",
       "            Plotly.purge(gd);\n",
       "            observer.disconnect();\n",
       "        }}\n",
       "}});\n",
       "\n",
       "// Listen for the removal of the full notebook cells\n",
       "var notebookContainer = gd.closest('#notebook-container');\n",
       "if (notebookContainer) {{\n",
       "    x.observe(notebookContainer, {childList: true});\n",
       "}}\n",
       "\n",
       "// Listen for the clearing of the current output cell\n",
       "var outputEl = gd.closest('.output');\n",
       "if (outputEl) {{\n",
       "    x.observe(outputEl, {childList: true});\n",
       "}}\n",
       "\n",
       "                        })                };                });            </script>        </div>"
      ]
     },
     "metadata": {},
     "output_type": "display_data"
    }
   ],
   "source": [
    "fig = px.choropleth(locations=states_df['Abbreviation'], locationmode=\"USA-states\", color=states_df['Adjusted Loss'], scope=\"usa\")\n",
    "fig.show()"
   ]
  }
 ],
 "metadata": {
  "kernelspec": {
   "display_name": "Python 3 (ipykernel)",
   "language": "python",
   "name": "python3"
  },
  "language_info": {
   "codemirror_mode": {
    "name": "ipython",
    "version": 3
   },
   "file_extension": ".py",
   "mimetype": "text/x-python",
   "name": "python",
   "nbconvert_exporter": "python",
   "pygments_lexer": "ipython3",
   "version": "3.9.6"
  }
 },
 "nbformat": 4,
 "nbformat_minor": 5
}
